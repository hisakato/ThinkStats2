{
 "cells": [
  {
   "cell_type": "markdown",
   "metadata": {},
   "source": [
    "This file contains example code to demonstrate various Pandas features."
   ]
  },
  {
   "cell_type": "code",
   "execution_count": 1,
   "metadata": {
    "collapsed": false
   },
   "outputs": [],
   "source": [
    "from __future__ import print_function, division\n",
    "\n",
    "%matplotlib inline"
   ]
  },
  {
   "cell_type": "markdown",
   "metadata": {},
   "source": [
    "For the first example, I'll work with data from the BRFSS"
   ]
  },
  {
   "cell_type": "code",
   "execution_count": 2,
   "metadata": {
    "collapsed": false
   },
   "outputs": [],
   "source": [
    "import brfss\n",
    "df = brfss.ReadBrfss(nrows=5000)\n",
    "df['height'] = df.htm3"
   ]
  },
  {
   "cell_type": "markdown",
   "metadata": {},
   "source": [
    "Of the first 5000 respondents, 42 have invalid heights.  Note that most obvious ways of checking for null don't work."
   ]
  },
  {
   "cell_type": "code",
   "execution_count": 3,
   "metadata": {
    "collapsed": false
   },
   "outputs": [
    {
     "data": {
      "text/plain": [
       "42"
      ]
     },
     "execution_count": 3,
     "metadata": {},
     "output_type": "execute_result"
    }
   ],
   "source": [
    "sum(df.height.isnull())"
   ]
  },
  {
   "cell_type": "markdown",
   "metadata": {},
   "source": [
    "Use dropna to select valid heights."
   ]
  },
  {
   "cell_type": "code",
   "execution_count": 4,
   "metadata": {
    "collapsed": false
   },
   "outputs": [
    {
     "data": {
      "text/plain": [
       "4958"
      ]
     },
     "execution_count": 4,
     "metadata": {},
     "output_type": "execute_result"
    }
   ],
   "source": [
    "valid_heights = df.height.dropna()\n",
    "len(valid_heights)"
   ]
  },
  {
   "cell_type": "markdown",
   "metadata": {},
   "source": [
    "EstimatedPdf is an interface to gaussian_kde"
   ]
  },
  {
   "cell_type": "code",
   "execution_count": 5,
   "metadata": {
    "collapsed": false
   },
   "outputs": [],
   "source": [
    "import thinkstats2\n",
    "pdf = thinkstats2.EstimatedPdf(valid_heights)"
   ]
  },
  {
   "cell_type": "markdown",
   "metadata": {},
   "source": [
    "The kde object provides resample:"
   ]
  },
  {
   "cell_type": "code",
   "execution_count": 6,
   "metadata": {
    "collapsed": false
   },
   "outputs": [
    {
     "data": {
      "text/plain": [
       "(5000,)"
      ]
     },
     "execution_count": 6,
     "metadata": {},
     "output_type": "execute_result"
    }
   ],
   "source": [
    "fillable = pdf.kde.resample(len(df)).flatten()\n",
    "fillable.shape"
   ]
  },
  {
   "cell_type": "markdown",
   "metadata": {},
   "source": [
    "Or you can use thinkstats objects instead.  First convert from EstimatedPdf to Pmf"
   ]
  },
  {
   "cell_type": "code",
   "execution_count": 7,
   "metadata": {
    "collapsed": false
   },
   "outputs": [
    {
     "data": {
      "image/png": "[encoded data removed]",
      "text/plain": [
       "<matplotlib.figure.Figure at 0x1196eb410>"
      ]
     },
     "metadata": {},
     "output_type": "display_data"
    }
   ],
   "source": [
    "import thinkplot\n",
    "pmf = pdf.MakePmf()\n",
    "thinkplot.Pdf(pmf)"
   ]
  },
  {
   "cell_type": "markdown",
   "metadata": {},
   "source": [
    "You can use the Pmf to generate a random sample, but it is faster to convert to Cdf:"
   ]
  },
  {
   "cell_type": "code",
   "execution_count": 8,
   "metadata": {
    "collapsed": false
   },
   "outputs": [],
   "source": [
    "cdf = pmf.MakeCdf()\n",
    "fillable = cdf.Sample(len(df))"
   ]
  },
  {
   "cell_type": "markdown",
   "metadata": {},
   "source": [
    "Then we can use fillna to replace NaNs"
   ]
  },
  {
   "cell_type": "code",
   "execution_count": 9,
   "metadata": {
    "collapsed": false
   },
   "outputs": [
    {
     "data": {
      "text/plain": [
       "0"
      ]
     },
     "execution_count": 9,
     "metadata": {},
     "output_type": "execute_result"
    }
   ],
   "source": [
    "import pandas\n",
    "series = pandas.Series(fillable)\n",
    "df.height.fillna(series, inplace=True)\n",
    "sum(df.height.isnull())"
   ]
  },
  {
   "cell_type": "markdown",
   "metadata": {},
   "source": []
  },
  {
   "cell_type": "code",
   "execution_count": 10,
   "metadata": {
    "collapsed": false
   },
   "outputs": [
    {
     "data": {
      "text/plain": [
       "{'xscale': 'linear', 'yscale': 'linear'}"
      ]
     },
     "execution_count": 10,
     "metadata": {},
     "output_type": "execute_result"
    },
    {
     "data": {
      "image/png": "[encoded data removed]",
      "text/plain": [
       "<matplotlib.figure.Figure at 0x1196eb9d0>"
      ]
     },
     "metadata": {},
     "output_type": "display_data"
    }
   ],
   "source": [
    "cdf = thinkstats2.Cdf(df.height)\n",
    "thinkplot.Cdf(cdf)"
   ]
  },
  {
   "cell_type": "markdown",
   "metadata": {},
   "source": []
  },
  {
   "cell_type": "code",
   "execution_count": 11,
   "metadata": {
    "collapsed": false
   },
   "outputs": [],
   "source": []
  },
  {
   "cell_type": "markdown",
   "metadata": {},
   "source": []
  },
  {
   "cell_type": "code",
   "execution_count": null,
   "metadata": {
    "collapsed": false
   },
   "outputs": [],
   "source": []
  },
  {
   "cell_type": "code",
   "execution_count": null,
   "metadata": {
    "collapsed": false
   },
   "outputs": [],
   "source": []
  },
  {
   "cell_type": "code",
   "execution_count": 11,
   "metadata": {
    "collapsed": false
   },
   "outputs": [],
   "source": [
    "import brfss\n",
    "resp = brfss.ReadBrfss(nrows=5000).dropna(subset=['sex', 'htm3'])\n",
    "grouped = resp.groupby('sex')"
   ]
  },
  {
   "cell_type": "code",
   "execution_count": 12,
   "metadata": {
    "collapsed": false
   },
   "outputs": [
    {
     "name": "stdout",
     "output_type": "stream",
     "text": [
      "1 (1611, 6)\n",
      "2 (3347, 6)\n"
     ]
    }
   ],
   "source": [
    "for i, group in grouped:\n",
    "    print(i, group.shape)"
   ]
  },
  {
   "cell_type": "code",
   "execution_count": 13,
   "metadata": {
    "collapsed": false
   },
   "outputs": [
    {
     "data": {
      "text/plain": [
       "age         54.868077\n",
       "sex          1.000000\n",
       "wtyrago     92.561772\n",
       "finalwt    782.980373\n",
       "wtkg2       91.694793\n",
       "htm3       179.120422\n",
       "dtype: float64"
      ]
     },
     "execution_count": 13,
     "metadata": {},
     "output_type": "execute_result"
    }
   ],
   "source": [
    "grouped.get_group(1).mean()"
   ]
  },
  {
   "cell_type": "code",
   "execution_count": 14,
   "metadata": {
    "collapsed": false
   },
   "outputs": [
    {
     "data": {
      "text/html": [
       "<div>\n",
       "<table border=\"1\" class=\"dataframe\">\n",
       "  <thead>\n",
       "    <tr style=\"text-align: right;\">\n",
       "      <th></th>\n",
       "      <th>age</th>\n",
       "      <th>wtyrago</th>\n",
       "      <th>finalwt</th>\n",
       "      <th>wtkg2</th>\n",
       "      <th>htm3</th>\n",
       "    </tr>\n",
       "    <tr>\n",
       "      <th>sex</th>\n",
       "      <th></th>\n",
       "      <th></th>\n",
       "      <th></th>\n",
       "      <th></th>\n",
       "      <th></th>\n",
       "    </tr>\n",
       "  </thead>\n",
       "  <tbody>\n",
       "    <tr>\n",
       "      <th>1</th>\n",
       "      <td>54.868077</td>\n",
       "      <td>92.561772</td>\n",
       "      <td>782.980373</td>\n",
       "      <td>91.694793</td>\n",
       "      <td>179.120422</td>\n",
       "    </tr>\n",
       "    <tr>\n",
       "      <th>2</th>\n",
       "      <td>54.891468</td>\n",
       "      <td>76.803614</td>\n",
       "      <td>418.628225</td>\n",
       "      <td>76.282271</td>\n",
       "      <td>163.973110</td>\n",
       "    </tr>\n",
       "  </tbody>\n",
       "</table>\n",
       "</div>"
      ],
      "text/plain": [
       "           age    wtyrago     finalwt      wtkg2        htm3\n",
       "sex                                                         \n",
       "1    54.868077  92.561772  782.980373  91.694793  179.120422\n",
       "2    54.891468  76.803614  418.628225  76.282271  163.973110"
      ]
     },
     "execution_count": 14,
     "metadata": {},
     "output_type": "execute_result"
    }
   ],
   "source": [
    "grouped.mean()"
   ]
  },
  {
   "cell_type": "code",
   "execution_count": 15,
   "metadata": {
    "collapsed": false
   },
   "outputs": [
    {
     "data": {
      "text/plain": [
       "sex\n",
       "1    179.120422\n",
       "2    163.973110\n",
       "Name: htm3, dtype: float64"
      ]
     },
     "execution_count": 15,
     "metadata": {},
     "output_type": "execute_result"
    }
   ],
   "source": [
    "grouped['htm3'].mean()"
   ]
  },
  {
   "cell_type": "code",
   "execution_count": 16,
   "metadata": {
    "collapsed": false
   },
   "outputs": [
    {
     "data": {
      "text/plain": [
       "sex\n",
       "1    7.643153\n",
       "2    7.013427\n",
       "Name: htm3, dtype: float64"
      ]
     },
     "execution_count": 16,
     "metadata": {},
     "output_type": "execute_result"
    }
   ],
   "source": [
    "grouped.htm3.std()"
   ]
  },
  {
   "cell_type": "code",
   "execution_count": 17,
   "metadata": {
    "collapsed": false
   },
   "outputs": [
    {
     "data": {
      "text/html": [
       "<div>\n",
       "<table border=\"1\" class=\"dataframe\">\n",
       "  <thead>\n",
       "    <tr style=\"text-align: right;\">\n",
       "      <th></th>\n",
       "      <th>age</th>\n",
       "      <th>wtyrago</th>\n",
       "      <th>finalwt</th>\n",
       "      <th>wtkg2</th>\n",
       "      <th>htm3</th>\n",
       "    </tr>\n",
       "    <tr>\n",
       "      <th>sex</th>\n",
       "      <th></th>\n",
       "      <th></th>\n",
       "      <th></th>\n",
       "      <th></th>\n",
       "      <th></th>\n",
       "    </tr>\n",
       "  </thead>\n",
       "  <tbody>\n",
       "    <tr>\n",
       "      <th>1</th>\n",
       "      <td>54.868077</td>\n",
       "      <td>92.561772</td>\n",
       "      <td>782.980373</td>\n",
       "      <td>91.694793</td>\n",
       "      <td>179.120422</td>\n",
       "    </tr>\n",
       "    <tr>\n",
       "      <th>2</th>\n",
       "      <td>54.891468</td>\n",
       "      <td>76.803614</td>\n",
       "      <td>418.628225</td>\n",
       "      <td>76.282271</td>\n",
       "      <td>163.973110</td>\n",
       "    </tr>\n",
       "  </tbody>\n",
       "</table>\n",
       "</div>"
      ],
      "text/plain": [
       "           age    wtyrago     finalwt      wtkg2        htm3\n",
       "sex                                                         \n",
       "1    54.868077  92.561772  782.980373  91.694793  179.120422\n",
       "2    54.891468  76.803614  418.628225  76.282271  163.973110"
      ]
     },
     "execution_count": 17,
     "metadata": {},
     "output_type": "execute_result"
    }
   ],
   "source": [
    "import numpy\n",
    "grouped.aggregate(numpy.mean)"
   ]
  },
  {
   "cell_type": "code",
   "execution_count": 18,
   "metadata": {
    "collapsed": false
   },
   "outputs": [
    {
     "data": {
      "text/html": [
       "<div>\n",
       "<table border=\"1\" class=\"dataframe\">\n",
       "  <thead>\n",
       "    <tr style=\"text-align: right;\">\n",
       "      <th></th>\n",
       "      <th>age</th>\n",
       "      <th>wtyrago</th>\n",
       "      <th>finalwt</th>\n",
       "      <th>wtkg2</th>\n",
       "      <th>htm3</th>\n",
       "    </tr>\n",
       "    <tr>\n",
       "      <th>sex</th>\n",
       "      <th></th>\n",
       "      <th></th>\n",
       "      <th></th>\n",
       "      <th></th>\n",
       "      <th></th>\n",
       "    </tr>\n",
       "  </thead>\n",
       "  <tbody>\n",
       "    <tr>\n",
       "      <th>1</th>\n",
       "      <td>15.979595</td>\n",
       "      <td>20.082096</td>\n",
       "      <td>891.896249</td>\n",
       "      <td>19.124774</td>\n",
       "      <td>7.643153</td>\n",
       "    </tr>\n",
       "    <tr>\n",
       "      <th>2</th>\n",
       "      <td>16.318462</td>\n",
       "      <td>20.818984</td>\n",
       "      <td>480.059627</td>\n",
       "      <td>19.615797</td>\n",
       "      <td>7.013427</td>\n",
       "    </tr>\n",
       "  </tbody>\n",
       "</table>\n",
       "</div>"
      ],
      "text/plain": [
       "           age    wtyrago     finalwt      wtkg2      htm3\n",
       "sex                                                       \n",
       "1    15.979595  20.082096  891.896249  19.124774  7.643153\n",
       "2    16.318462  20.818984  480.059627  19.615797  7.013427"
      ]
     },
     "execution_count": 18,
     "metadata": {},
     "output_type": "execute_result"
    }
   ],
   "source": [
    "grouped.aggregate(numpy.std)"
   ]
  },
  {
   "cell_type": "code",
   "execution_count": 19,
   "metadata": {
    "collapsed": false
   },
   "outputs": [],
   "source": [
    "d = {}\n",
    "for name, group in grouped:\n",
    "    d[name] = group.htm3.values"
   ]
  },
  {
   "cell_type": "code",
   "execution_count": 20,
   "metadata": {
    "collapsed": false
   },
   "outputs": [
    {
     "data": {
      "text/plain": [
       "{1: array([ 170.,  185.,  183., ...,  178.,  175.,  170.]),\n",
       " 2: array([ 157.,  163.,  165., ...,  168.,  157.,  173.])}"
      ]
     },
     "execution_count": 20,
     "metadata": {},
     "output_type": "execute_result"
    }
   ],
   "source": [
    "d"
   ]
  },
  {
   "cell_type": "code",
   "execution_count": 21,
   "metadata": {
    "collapsed": false
   },
   "outputs": [],
   "source": [
    "import brfss\n",
    "resp = brfss.ReadBrfss().dropna(subset=['sex', 'wtkg2'])"
   ]
  },
  {
   "cell_type": "code",
   "execution_count": 22,
   "metadata": {
    "collapsed": false
   },
   "outputs": [],
   "source": [
    "groups = resp.groupby('sex')\n",
    "d = {}\n",
    "for name, group in groups:\n",
    "    d[name] = group.wtkg2"
   ]
  },
  {
   "cell_type": "code",
   "execution_count": 23,
   "metadata": {
    "collapsed": true
   },
   "outputs": [
    {
     "data": {
      "text/plain": [
       "{1: 3          73.64\n",
       " 4          88.64\n",
       " 5         109.09\n",
       " 8          90.00\n",
       " 9          77.27\n",
       " 10         63.64\n",
       " 13        127.27\n",
       " 20         76.36\n",
       " 23         78.18\n",
       " 26         77.27\n",
       " 35         81.82\n",
       " 39         90.00\n",
       " 42         90.91\n",
       " 45         93.18\n",
       " 50         81.82\n",
       " 52         68.18\n",
       " 56         77.27\n",
       " 59         77.27\n",
       " 61         88.64\n",
       " 63         73.64\n",
       " 71        115.91\n",
       " 76         90.91\n",
       " 78        106.36\n",
       " 80         70.45\n",
       " 87        115.91\n",
       " 93        102.73\n",
       " 95         95.45\n",
       " 99         84.09\n",
       " 100        55.91\n",
       " 105       106.82\n",
       "            ...  \n",
       " 414437     90.91\n",
       " 414441     86.36\n",
       " 414444     82.73\n",
       " 414447     63.64\n",
       " 414448     68.18\n",
       " 414450     85.45\n",
       " 414452     84.09\n",
       " 414455     95.45\n",
       " 414458     65.91\n",
       " 414459     77.27\n",
       " 414460     90.91\n",
       " 414462     61.82\n",
       " 414465     81.82\n",
       " 414466     63.64\n",
       " 414467     88.64\n",
       " 414468     63.64\n",
       " 414470     81.82\n",
       " 414474     87.73\n",
       " 414475    113.64\n",
       " 414477    100.91\n",
       " 414480     89.09\n",
       " 414481     76.36\n",
       " 414488    102.27\n",
       " 414490     71.82\n",
       " 414498     75.00\n",
       " 414501     86.36\n",
       " 414503     78.18\n",
       " 414504     88.64\n",
       " 414506     90.91\n",
       " 414508     75.00\n",
       " Name: wtkg2, dtype: float64, 2: 0          70.91\n",
       " 1          72.73\n",
       " 6          50.00\n",
       " 7         122.73\n",
       " 11         78.18\n",
       " 12         62.73\n",
       " 14         95.45\n",
       " 15         88.64\n",
       " 16         90.91\n",
       " 17         50.00\n",
       " 18        100.00\n",
       " 19         72.73\n",
       " 21         63.64\n",
       " 22         55.45\n",
       " 24         90.91\n",
       " 25         71.82\n",
       " 27         62.73\n",
       " 28         59.09\n",
       " 29         65.91\n",
       " 30         72.73\n",
       " 31         51.36\n",
       " 32         68.18\n",
       " 34         85.45\n",
       " 36         68.64\n",
       " 37         93.18\n",
       " 38         90.91\n",
       " 40         87.27\n",
       " 41         61.36\n",
       " 43         81.82\n",
       " 44         81.82\n",
       "            ...  \n",
       " 414449     75.00\n",
       " 414451     79.55\n",
       " 414453     63.64\n",
       " 414454     90.91\n",
       " 414457     58.64\n",
       " 414461     72.73\n",
       " 414464     50.91\n",
       " 414469     54.55\n",
       " 414471     89.09\n",
       " 414472     74.55\n",
       " 414473     72.73\n",
       " 414476     83.64\n",
       " 414478     56.82\n",
       " 414479     70.45\n",
       " 414482     51.36\n",
       " 414483     68.18\n",
       " 414484     87.27\n",
       " 414485     77.27\n",
       " 414486     61.36\n",
       " 414489     86.36\n",
       " 414492     70.45\n",
       " 414493     56.82\n",
       " 414494     68.18\n",
       " 414495     72.73\n",
       " 414496     56.82\n",
       " 414497     65.91\n",
       " 414499    129.55\n",
       " 414500     75.00\n",
       " 414505     72.73\n",
       " 414507     89.09\n",
       " Name: wtkg2, dtype: float64}"
      ]
     },
     "execution_count": 23,
     "metadata": {},
     "output_type": "execute_result"
    }
   ],
   "source": [
    "d"
   ]
  },
  {
   "cell_type": "code",
   "execution_count": 24,
   "metadata": {
    "collapsed": false
   },
   "outputs": [
    {
     "name": "stdout",
     "output_type": "stream",
     "text": [
      "1 4.46930019771 0.195577217579\n",
      "2 4.25968563579 0.225997574947\n"
     ]
    }
   ],
   "source": [
    "import numpy\n",
    "\n",
    "for sex, weights in d.iteritems():\n",
    "    print(sex, numpy.log(weights).mean(), numpy.log(weights).std())"
   ]
  },
  {
   "cell_type": "code",
   "execution_count": 25,
   "metadata": {
    "collapsed": false
   },
   "outputs": [],
   "source": [
    "import scipy.stats"
   ]
  },
  {
   "cell_type": "code",
   "execution_count": 26,
   "metadata": {
    "collapsed": false
   },
   "outputs": [
    {
     "data": {
      "text/plain": [
       "(0.19557677088943815, 0, 87.295632733401675)"
      ]
     },
     "execution_count": 26,
     "metadata": {},
     "output_type": "execute_result"
    }
   ],
   "source": [
    "shape, loc, scale = scipy.stats.lognorm.fit(d[1], floc=0)\n",
    "shape, loc, scale"
   ]
  },
  {
   "cell_type": "code",
   "execution_count": 27,
   "metadata": {
    "collapsed": false
   },
   "outputs": [
    {
     "data": {
      "text/plain": [
       "(0.2259968479344179, 0, 70.78774486250299)"
      ]
     },
     "execution_count": 27,
     "metadata": {},
     "output_type": "execute_result"
    }
   ],
   "source": [
    "shape, loc, scale = scipy.stats.lognorm.fit(d[2], floc=0)\n",
    "shape, loc, scale"
   ]
  },
  {
   "cell_type": "code",
   "execution_count": 28,
   "metadata": {
    "collapsed": false
   },
   "outputs": [],
   "source": [
    "import thinkstats2\n",
    "cdf = thinkstats2.Cdf(d[2])"
   ]
  },
  {
   "cell_type": "code",
   "execution_count": 29,
   "metadata": {
    "collapsed": false
   },
   "outputs": [
    {
     "data": {
      "text/plain": [
       "{'xscale': 'linear', 'yscale': 'linear'}"
      ]
     },
     "execution_count": 29,
     "metadata": {},
     "output_type": "execute_result"
    },
    {
     "data": {
      "image/png": "[encoded data removed]",
      "text/plain": [
       "<matplotlib.figure.Figure at 0x1197ffc90>"
      ]
     },
     "metadata": {},
     "output_type": "display_data"
    }
   ],
   "source": [
    "import thinkplot\n",
    "%matplotlib inline\n",
    "\n",
    "thinkplot.Cdf(cdf)"
   ]
  },
  {
   "cell_type": "code",
   "execution_count": 30,
   "metadata": {
    "collapsed": false
   },
   "outputs": [],
   "source": [
    "rv = scipy.stats.lognorm(0.23, 0, 70.8)"
   ]
  },
  {
   "cell_type": "code",
   "execution_count": 31,
   "metadata": {
    "collapsed": false
   },
   "outputs": [
    {
     "data": {
      "text/plain": [
       "[<matplotlib.lines.Line2D at 0x11983eb50>]"
      ]
     },
     "execution_count": 31,
     "metadata": {},
     "output_type": "execute_result"
    },
    {
     "data": {
      "image/png": "[encoded data removed]",
      "text/plain": [
       "<matplotlib.figure.Figure at 0x11983e810>"
      ]
     },
     "metadata": {},
     "output_type": "display_data"
    }
   ],
   "source": [
    "import matplotlib.pyplot as pyplot\n",
    "xs = numpy.linspace(20, 200, 100)\n",
    "ys = rv.cdf(xs)\n",
    "thinkplot.Cdf(cdf)\n",
    "pyplot.plot(xs, ys)"
   ]
  },
  {
   "cell_type": "code",
   "execution_count": null,
   "metadata": {
    "collapsed": false
   },
   "outputs": [],
   "source": []
  }
 ],
 "metadata": {
  "kernelspec": {
   "display_name": "Python 2",
   "language": "python",
   "name": "python2"
  },
  "language_info": {
   "codemirror_mode": {
    "name": "ipython",
    "version": 2
   },
   "file_extension": ".py",
   "mimetype": "text/x-python",
   "name": "python",
   "nbconvert_exporter": "python",
   "pygments_lexer": "ipython2",
   "version": "2.7.13"
  }
 },
 "nbformat": 4,
 "nbformat_minor": 0
}
